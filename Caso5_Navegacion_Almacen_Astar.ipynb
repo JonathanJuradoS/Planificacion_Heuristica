{
  "cells": [
    {
      "cell_type": "markdown",
      "metadata": {
        "id": "view-in-github",
        "colab_type": "text"
      },
      "source": [
        "<a href=\"https://colab.research.google.com/github/JonathanJuradoS/Planificacion_Heuristica/blob/main/Caso5_Navegacion_Almacen_Astar.ipynb\" target=\"_parent\"><img src=\"https://colab.research.google.com/assets/colab-badge.svg\" alt=\"Open In Colab\"/></a>"
      ]
    },
    {
      "cell_type": "markdown",
      "id": "b8e56d07",
      "metadata": {
        "id": "b8e56d07"
      },
      "source": [
        "\n",
        "# 🤖 Caso 5: Navegación Autónoma en Almacén Inteligente\n",
        "\n",
        "## 📄 Descripción\n",
        "Un robot logístico debe recorrer un **almacén representado como una cuadrícula**, recolectando productos desde diferentes estantes.  \n",
        "El mapa es **dinámico**, ya que algunas rutas pueden estar bloqueadas por estanterías móviles.\n",
        "\n",
        "## 🎯 Objetivo\n",
        "Determinar la **mejor ruta para visitar múltiples puntos de recogida** minimizando el tiempo total de recorrido y evitando zonas bloqueadas.\n",
        "\n",
        "## 📌 Actividades del Estudiante\n",
        "- Simular el almacén como un **grafo dinámico**.\n",
        "- Aplicar el algoritmo **A\\*** y/o **Enforced Hill Climbing**.\n",
        "- Diseñar y comparar **heurísticas de distancia acumulada**.\n",
        "- Evaluar la velocidad y calidad de los caminos encontrados.\n"
      ]
    },
    {
      "cell_type": "code",
      "execution_count": 1,
      "id": "168d6071",
      "metadata": {
        "id": "168d6071"
      },
      "outputs": [],
      "source": [
        "\n",
        "import numpy as np\n",
        "import matplotlib.pyplot as plt\n",
        "import heapq\n",
        "import random\n",
        "import matplotlib.patches as patches\n",
        "\n",
        "GRID_SIZE = 10\n",
        "NUM_RECOGIDAS = 3\n",
        "\n",
        "np.random.seed(42)\n",
        "random.seed(42)\n",
        "\n",
        "# Generar mapa con obstáculos móviles\n",
        "grid = np.zeros((GRID_SIZE, GRID_SIZE), dtype=int)\n",
        "obstaculos = random.sample([(i, j) for i in range(GRID_SIZE) for j in range(GRID_SIZE)\n",
        "                            if (i, j) != (0, 0)], 15)\n",
        "for (i, j) in obstaculos:\n",
        "    grid[i][j] = 1\n",
        "\n",
        "inicio = (0, 0)\n",
        "recogidas = random.sample([(i, j) for i in range(GRID_SIZE) for j in range(GRID_SIZE)\n",
        "                           if grid[i][j] == 0 and (i, j) != inicio], NUM_RECOGIDAS)\n"
      ]
    },
    {
      "cell_type": "markdown",
      "id": "fbcb2330",
      "metadata": {
        "id": "fbcb2330"
      },
      "source": [
        "\n",
        "## ⭐ Algoritmo A* (A estrella)\n",
        "\n",
        "Usa la función:\n",
        "\\[\n",
        "f(n) = g(n) + h(n)\n",
        "\\]\n",
        "Donde:\n",
        "- \\( g(n) \\): costo desde el inicio\n",
        "- \\( h(n) \\): suma de distancias Manhattan a puntos de recogida restantes\n"
      ]
    },
    {
      "cell_type": "code",
      "execution_count": 2,
      "id": "7fa0b344",
      "metadata": {
        "id": "7fa0b344"
      },
      "outputs": [],
      "source": [
        "\n",
        "def heuristic_multipunto(nodo, metas):\n",
        "    return sum(abs(nodo[0]-m[0]) + abs(nodo[1]-m[1]) for m in metas)\n",
        "\n",
        "def astar_multipunto(grid, inicio, metas):\n",
        "    open_set = []\n",
        "    heapq.heappush(open_set, (0 + heuristic_multipunto(inicio, metas), 0, inicio, [], metas.copy()))\n",
        "    visited = set()\n",
        "\n",
        "    while open_set:\n",
        "        f, cost, current, path, remaining = heapq.heappop(open_set)\n",
        "        if (current, tuple(remaining)) in visited:\n",
        "            continue\n",
        "        visited.add((current, tuple(remaining)))\n",
        "        path = path + [current]\n",
        "\n",
        "        if current in remaining:\n",
        "            remaining.remove(current)\n",
        "\n",
        "        if not remaining:\n",
        "            return path\n",
        "\n",
        "        for dx, dy in [(0,1), (1,0), (-1,0), (0,-1)]:\n",
        "            neighbor = (current[0]+dx, current[1]+dy)\n",
        "            if (0 <= neighbor[0] < GRID_SIZE and 0 <= neighbor[1] < GRID_SIZE and\n",
        "                grid[neighbor[0]][neighbor[1]] == 0):\n",
        "                heapq.heappush(open_set, (cost + 1 + heuristic_multipunto(neighbor, remaining),\n",
        "                                          cost + 1, neighbor, path, remaining.copy()))\n",
        "    return []\n",
        "path_astar = astar_multipunto(grid, inicio, recogidas)\n"
      ]
    },
    {
      "cell_type": "code",
      "execution_count": 3,
      "id": "9a102036",
      "metadata": {
        "colab": {
          "base_uri": "https://localhost:8080/",
          "height": 545
        },
        "id": "9a102036",
        "outputId": "2015104c-17dd-4fd2-b52a-fa8441a36f51"
      },
      "outputs": [
        {
          "output_type": "display_data",
          "data": {
            "text/plain": [
              "<Figure size 600x600 with 1 Axes>"
            ],
            "image/png": "[encoded data removed]"
          },
          "metadata": {}
        }
      ],
      "source": [
        "\n",
        "fig, ax = plt.subplots(figsize=(6, 6))\n",
        "ax.set_xlim(0, GRID_SIZE)\n",
        "ax.set_ylim(0, GRID_SIZE)\n",
        "ax.set_xticks(range(GRID_SIZE))\n",
        "ax.set_yticks(range(GRID_SIZE))\n",
        "ax.grid(True)\n",
        "\n",
        "# Obstáculos\n",
        "for (i, j) in obstaculos:\n",
        "    ax.add_patch(patches.Rectangle((j, GRID_SIZE-1-i), 1, 1, facecolor=\"black\"))\n",
        "# Ruta\n",
        "for (i, j) in path_astar:\n",
        "    ax.add_patch(patches.Rectangle((j, GRID_SIZE-1-i), 1, 1, facecolor=\"green\", alpha=0.5))\n",
        "# Inicio\n",
        "ax.add_patch(patches.Rectangle((inicio[1], GRID_SIZE-1-inicio[0]), 1, 1, facecolor=\"blue\"))\n",
        "# Metas\n",
        "for (i, j) in recogidas:\n",
        "    ax.add_patch(patches.Rectangle((j, GRID_SIZE-1-i), 1, 1, facecolor=\"red\"))\n",
        "\n",
        "ax.set_title(\"Ruta con A* - Inicio (azul), Recogidas (rojo), Obstáculos (negro)\")\n",
        "plt.show()\n"
      ]
    },
    {
      "cell_type": "markdown",
      "id": "1182eefe",
      "metadata": {
        "id": "1182eefe"
      },
      "source": [
        "\n",
        "## ✅ Conclusiones del Caso\n",
        "\n",
        "- El algoritmo **A\\*** fue eficaz en encontrar una ruta completa desde el origen a múltiples puntos de recogida, incluso en un mapa con obstáculos dinámicos.\n",
        "- La heurística utilizada (suma de distancias Manhattan) permitió priorizar los caminos más prometedores hacia los puntos no visitados.\n",
        "- En entornos con rutas bloqueadas, A* sigue siendo una opción sólida para navegación logística, siempre que se diseñe una heurística realista.\n",
        "- Este ejercicio muestra cómo aplicar IA para resolver **problemas reales de logística y automatización en almacenes** inteligentes.\n",
        "\n",
        "📌 Siguiente reto: integrar condiciones dinámicas de tiempo real para cambiar obstáculos durante el recorrido.\n"
      ]
    }
  ],
  "metadata": {
    "colab": {
      "provenance": [],
      "include_colab_link": true
    },
    "language_info": {
      "name": "python"
    },
    "kernelspec": {
      "name": "python3",
      "display_name": "Python 3"
    }
  },
  "nbformat": 4,
  "nbformat_minor": 5
}